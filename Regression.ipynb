{
 "cells": [
  {
   "cell_type": "code",
   "execution_count": 14,
   "metadata": {},
   "outputs": [
    {
     "data": {
      "text/plain": [
       "12"
      ]
     },
     "execution_count": 14,
     "metadata": {},
     "output_type": "execute_result"
    }
   ],
   "source": [
    "import sqlite3\n",
    "\n",
    "conn = sqlite3.connect('qaCheck.db')\n",
    "\n",
    "c = conn.cursor()\n",
    "\n",
    "# c.execute(\"\"\"CREATE TABLE q_a(\n",
    "#              category text,\n",
    "#              question text,\n",
    "#              answer text)\"\"\")\n",
    "\n",
    "class Questions:\n",
    "    \"\"\"A sample questions class\"\"\"\n",
    "    def __init__(self, category, question, answer):\n",
    "        self.category = category\n",
    "        self.question = question\n",
    "        self.answer = answer \n",
    "        \n",
    "def insert_QandA(question):\n",
    "    with conn:\n",
    "        c.execute(\"INSERT INTO q_a VALUES(:category, :question, :answer)\",\n",
    "                 {'category':question.category, 'question':question.question, 'answer':question.answer})\n",
    "        \n",
    "def remove_QandA(question):\n",
    "    with conn:\n",
    "        c.execute(\"DELETE FROM q_a WHERE question = :question\",\n",
    "                 {'question':question.question})\n",
    "        \n",
    "def update_pay(qobj, answerr):\n",
    "    with conn:\n",
    "        c.execute(\"UPDATE q_a SET answer = :answer WHERE question = :question\",\n",
    "                 {'question':qobj.question, 'answer': answerr})\n",
    "\n",
    "def get_ques_by_category(category):\n",
    "    c.execute('SELECT * FROM q_a WHERE category = :category',{'category':category})\n",
    "    return c.fetchall()    \n",
    "\n",
    "\n",
    "q1 = Questions('multiple_regression', 'what_is multiple regression',\n",
    "               \"\"\"Multiple regression is an extension of simple linear regression. It is used when \n",
    "                we want to predict the value of a variable based on the value of two or more other variables\"\"\")\n",
    "\n",
    "q2 = Questions('multiple_regression', 'how_to_intepret multiple regression',\n",
    "               \"\"\"Regression coefficients represent the mean change in the response variable for one unit of\n",
    "                  change in the predictor variable while holding other predictors in the model constant\"\"\")\n",
    "\n",
    "q3 = Questions('multiple_regression', 'how_to_apply multiple regression',\n",
    "               \"\"\" You can use R base linear model function(lm) to fit the model.\\n\n",
    "                   fit <- lm(y ~ x1 + x2 + x3, data=mydata)\"\"\")\n",
    "\n",
    "q4 = Questions('multiple_regression', 'assess_accuracy_model multiple regression',\n",
    "               \"\"\"I suggest you use RMSE to assess the accuracy, which is the square root of the variance of the residuals. It indicates the \n",
    "               absolute fit of the model to the data and how close the observed data points are to the model’s predicted\n",
    "               values. RMSE can be interpreted as the standard deviation of the unexplained variance, and has the useful \n",
    "               property of being in the same units as the response variable. Lower values of RMSE indicates a better fit. \\n\n",
    "               rmse <-  rmse(actual, predicted) \"\"\")\n",
    "\n",
    "q5 = Questions('multiple_regression', 'diagnostics multiple regression',\n",
    "               \"\"\"R-squared - It's a measure of percentage of variance of response is explained by the predictors.\\n\n",
    "                Adjusted R-squared - incorporates the model’s degrees of freedom. Can assess multiple models with differnet number of predictors\n",
    "                RMSE - Square root of the average of squared errors. this is the best measure to use\"\"\")\n",
    "\n",
    "q6 = Questions('multiple_regression', 'model_selection_methods multiple regression',\n",
    "                 \"\"\"Forward selection -Forward selection begins with an empty equation.  Predictors are added one at a time beginning with the \n",
    "                                       predictor with the highest correlation with the dependent variable. /n\n",
    "\n",
    "                    Backward elimination - All the independent variables are entered into the equation first and each one is deleted one at a time if \n",
    "                                        they do not contribute to the regression equation /n\n",
    "\n",
    "                    Stepwise selection - involves analysis at each step to determine the contribution of the predictor variable entered previously in the equation.  \n",
    "                                        So it is possible to understand the contribution of the previous variables now that another variable has been added.\"\"\" )\n",
    "\n",
    "\n",
    "q7 = Questions(\"multiple_regression\",'use_categorical_variables multiple regression',\n",
    "              \"\"\"Any analysis requires numerical variables. So, when you wish to include a categorical variable in a model, \n",
    "              they are recoded into a set of separate binary variables. This recoding is called “dummy coding” and leads to the \n",
    "              creation of a table called contrast matrix. This is done automatically by  R\"\"\")\n",
    "\n",
    "q8 = Questions(\"multiple_regression\", 'outliers multiple regression',\n",
    "              \"\"\"Machine learning algorithms are very sensitive to the range and distribution of attribute values. Data outliers can spoil and mislead the training process \n",
    "                  resulting in longer training times, less accurate models and ultimately poorer results. I suggest you use one of the following procedures to deal with outliers.\\n\n",
    "                    Univariate method: This method looks for data points with extreme values on one variable \\n\n",
    "                    Multivariate method: Here we look for unusual combinations on all the variables \\n\n",
    "                    Minkowski error: This method reduces the contribution of potential outliers in the training process \\n\n",
    "                    \"\"\")\n",
    "q9 = Questions('multiple_regression', 'Multicollinearity multiple regression',\n",
    "                \"\"\"multicollinearity results in unstable parameter estimates which makes it very difficult to assess the effect of independent variables on dependent variables. \n",
    "                The variance of the parameter estimates can be larger. Advanced regression methods like Ridge regression and Lasso can be used as solution for this matter. \"\"\")\n",
    "\n",
    "q10 = Questions('multiple_regression', 'improve_accuracy multiple regression',\n",
    "               \"\"\"there are multiple ways to gain improvements in the prediction model, having sufficient domain knowledge (context) will also give you the best possible chance of \n",
    "                   getting improvements. Here are a list of things for you to do... \\n\n",
    "\n",
    "                Do feature engineering to identiy the best possible variables \\n\n",
    "                Normalize or standardize your data \\n\n",
    "                Try fitting a different regression model (eg. polynomial or possion regression) \\n\n",
    "                Use an advanced regression method like Ridge regression or Lasso \\n\n",
    "                \"\"\")\n",
    "\n",
    "q11 = Questions('multiple_regression', 'Assumptions multiple regression',\n",
    "               \"\"\"Here are the assumptions of linear regression \\n\n",
    "\n",
    "                1) linearity and additivity of the relationship between dependent and independent variables \\n\n",
    "                2) statistical independence of the errors \\n\n",
    "                3) homoscedasticity (constant variance) of the errors \\n\n",
    "                4) Normality of the error distribution. \n",
    "                \"\"\")\n",
    "\n",
    "q12 = Questions('multiple_regression', 'non_linear_relationships multiple regression', \n",
    "                \"\"\"Poisson regression is a great tool to use if you have non linear relationships in the data. To use poisson regression in R, you can use the glm package \\n. \n",
    "                    model <- glm(num_awards ~ prog + math, family=\"poisson\", data=p) \"\"\")\n",
    "#insert_QandA(q8)\n",
    "#remove_QandA(q7)\n",
    "#c.execute('DROP TABLE q_a')\n",
    "c.execute('SELECT * FROM q_a')\n",
    "len(c.fetchall())"
   ]
  },
  {
   "cell_type": "code",
   "execution_count": 11,
   "metadata": {},
   "outputs": [
    {
     "data": {
      "text/plain": [
       "5"
      ]
     },
     "execution_count": 11,
     "metadata": {},
     "output_type": "execute_result"
    }
   ],
   "source": [
    "x = [12,23,4,2,12]\n",
    "len(x)"
   ]
  },
  {
   "cell_type": "code",
   "execution_count": null,
   "metadata": {},
   "outputs": [],
   "source": []
  },
  {
   "cell_type": "code",
   "execution_count": null,
   "metadata": {},
   "outputs": [],
   "source": []
  }
 ],
 "metadata": {
  "kernelspec": {
   "display_name": "Python 3",
   "language": "python",
   "name": "python3"
  },
  "language_info": {
   "codemirror_mode": {
    "name": "ipython",
    "version": 3
   },
   "file_extension": ".py",
   "mimetype": "text/x-python",
   "name": "python",
   "nbconvert_exporter": "python",
   "pygments_lexer": "ipython3",
   "version": "3.6.5"
  }
 },
 "nbformat": 4,
 "nbformat_minor": 2
}
