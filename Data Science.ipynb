{
 "cells": [
  {
   "cell_type": "code",
   "execution_count": 28,
   "metadata": {},
   "outputs": [
    {
     "name": "stdout",
     "output_type": "stream",
     "text": [
      "[('summarise', 'The summarise() function of dplyr allows us to perform the \\n \\n               majority of the initial summary statistics when performing exploratory data analysis. Which \\n\\n               includes sum(), mean(), count() etc. \\n\\n               summarise(dataset, mean = mean(x), sum = sum(x), count = count(x))'), ('filter', 'Filtering data is a common task to identify/select observations in which a particular \\n\\n                        variable matches a specific value/condition. The filter() function of dplyrprovides this capability.\\n\\n                        filter(data, x == 5)'), ('group_by', 'Often, observations are nested within groups or categories and our goals is to perform statistical analysis both at the \\n                            observation level and also at the group level. The group_by() function allows us to create these categorical groupings.\\n\\n                            group_by(data, country)')]\n"
     ]
    }
   ],
   "source": [
    "import sqlite3\n",
    "\n",
    "conn = sqlite3.connect('qaCheck_data.db')\n",
    "\n",
    "c = conn.cursor()\n",
    "\n",
    "# c.execute(\"\"\"CREATE TABLE q_a_data(question text, answer text)\"\"\")\n",
    "\n",
    "class Questions:\n",
    "    \"\"\"A sample questions class\"\"\"\n",
    "    def __init__(self, question, answer):\n",
    "        self.question = question\n",
    "        self.answer = answer \n",
    "        \n",
    "def insert_QandA(question):\n",
    "    with conn:\n",
    "        c.execute(\"INSERT INTO q_a_data VALUES(:question, :answer)\",\n",
    "                 {'question':question.question, 'answer':question.answer})\n",
    "        \n",
    "def remove_QandA(question):\n",
    "    with conn:\n",
    "        c.execute(\"DELETE FROM q_a_data WHERE question = :question\",\n",
    "                 {'question':question.question})\n",
    "        \n",
    "def update_pay(qobj, answerr):\n",
    "    with conn:\n",
    "        c.execute(\"UPDATE q_a_data SET answer = :answer WHERE question = :question\",\n",
    "                 {'question':qobj.question, 'answer': answerr})\n",
    "                    \n",
    "q1 = Questions('summarise',\"\"\"The summarise() function of dplyr allows us to perform the \\n \n",
    "               majority of the initial summary statistics when performing exploratory data analysis. Which \\n\n",
    "               includes sum(), mean(), count() etc. \\n\n",
    "               summarise(dataset, mean = mean(x), sum = sum(x), count = count(x))\"\"\")\n",
    "\n",
    "q2 = Questions('filter', \"\"\"Filtering data is a common task to identify/select observations in which a particular \\n\n",
    "                        variable matches a specific value/condition. The filter() function of dplyrprovides this capability.\\n\n",
    "                        filter(data, x == 5)\"\"\")\n",
    "\n",
    "q3 = Questions('group_by', \"\"\"Often, observations are nested within groups or categories and our goals is to perform statistical analysis both at the \n",
    "                            observation level and also at the group level. The group_by() function allows us to create these categorical groupings.\\n\n",
    "                            group_by(data, country)\"\"\")\n",
    "# q4 = Questions()\n",
    "\n",
    "#insert_QandA(q3)\n",
    "#remove_QandA(q1)\n",
    "# c.execute('DROP TABLE q_a')\n",
    "c.execute('SELECT * FROM q_a_data')\n",
    "print((c.fetchall()))"
   ]
  },
  {
   "cell_type": "code",
   "execution_count": null,
   "metadata": {},
   "outputs": [],
   "source": []
  },
  {
   "cell_type": "code",
   "execution_count": null,
   "metadata": {},
   "outputs": [],
   "source": []
  }
 ],
 "metadata": {
  "kernelspec": {
   "display_name": "Python 3",
   "language": "python",
   "name": "python3"
  },
  "language_info": {
   "codemirror_mode": {
    "name": "ipython",
    "version": 3
   },
   "file_extension": ".py",
   "mimetype": "text/x-python",
   "name": "python",
   "nbconvert_exporter": "python",
   "pygments_lexer": "ipython3",
   "version": "3.6.7"
  }
 },
 "nbformat": 4,
 "nbformat_minor": 2
}
